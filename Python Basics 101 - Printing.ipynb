{
 "cells": [
  {
   "cell_type": "markdown",
   "id": "d6a4c505",
   "metadata": {},
   "source": [
    "# Printing"
   ]
  },
  {
   "cell_type": "code",
   "execution_count": 5,
   "id": "e0d4b666",
   "metadata": {},
   "outputs": [],
   "source": [
    "x = 'Hello World!'"
   ]
  },
  {
   "cell_type": "code",
   "execution_count": 6,
   "id": "ebc240bc",
   "metadata": {},
   "outputs": [
    {
     "name": "stdout",
     "output_type": "stream",
     "text": [
      "Hello World!\n"
     ]
    }
   ],
   "source": [
    "print(x)"
   ]
  },
  {
   "cell_type": "code",
   "execution_count": 10,
   "id": "0a2f5aac",
   "metadata": {},
   "outputs": [
    {
     "name": "stdout",
     "output_type": "stream",
     "text": [
      "Hello\n",
      "World!\n"
     ]
    }
   ],
   "source": [
    "print('Hello', 'World!', sep='\\n')"
   ]
  },
  {
   "cell_type": "code",
   "execution_count": 17,
   "id": "1016495e",
   "metadata": {},
   "outputs": [
    {
     "name": "stdout",
     "output_type": "stream",
     "text": [
      "16\n",
      "range(0, 5)\n",
      "[1, 2, 3]\n"
     ]
    }
   ],
   "source": [
    "print(8 + 8)\n",
    "\n",
    "print(range(5))\n",
    "\n",
    "print([1,2,3])"
   ]
  },
  {
   "cell_type": "code",
   "execution_count": 20,
   "id": "c23a38c7",
   "metadata": {},
   "outputs": [
    {
     "name": "stdout",
     "output_type": "stream",
     "text": [
      "Mint Chocolate Chip 4\n"
     ]
    }
   ],
   "source": [
    "print('Mint Chocolate Chip', 4)"
   ]
  },
  {
   "cell_type": "code",
   "execution_count": 22,
   "id": "77a2bc47",
   "metadata": {},
   "outputs": [
    {
     "name": "stdout",
     "output_type": "stream",
     "text": [
      "I want 3 scoop(s) of MCC ice cream\n"
     ]
    }
   ],
   "source": [
    "print('I want {one} scoop(s) of {two} ice cream'.format(one=3, two = 'MCC'))"
   ]
  },
  {
   "cell_type": "code",
   "execution_count": 23,
   "id": "9ad2ae28",
   "metadata": {},
   "outputs": [],
   "source": [
    "fav_ice_cream = 'Mint Chocolate Chip'"
   ]
  },
  {
   "cell_type": "code",
   "execution_count": 31,
   "id": "ef1166c9",
   "metadata": {},
   "outputs": [
    {
     "name": "stdout",
     "output_type": "stream",
     "text": [
      " Choco\n"
     ]
    }
   ],
   "source": [
    "print(fav_ice_cream[4:10])"
   ]
  },
  {
   "cell_type": "code",
   "execution_count": 34,
   "id": "8bb0fa55",
   "metadata": {},
   "outputs": [
    {
     "name": "stdout",
     "output_type": "stream",
     "text": [
      "I've always liked ice cream\n"
     ]
    }
   ],
   "source": [
    "print(\"I've always liked ice cream\")"
   ]
  }
 ],
 "metadata": {
  "kernelspec": {
   "display_name": "Python 3 (ipykernel)",
   "language": "python",
   "name": "python3"
  },
  "language_info": {
   "codemirror_mode": {
    "name": "ipython",
    "version": 3
   },
   "file_extension": ".py",
   "mimetype": "text/x-python",
   "name": "python",
   "nbconvert_exporter": "python",
   "pygments_lexer": "ipython3",
   "version": "3.9.12"
  }
 },
 "nbformat": 4,
 "nbformat_minor": 5
}
