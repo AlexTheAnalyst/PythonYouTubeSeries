{
 "cells": [
  {
   "cell_type": "markdown",
   "id": "9efd109c",
   "metadata": {},
   "source": [
    "# Creating, Reading, and Appending Files"
   ]
  },
  {
   "cell_type": "code",
   "execution_count": 4,
   "id": "10fcb2c9",
   "metadata": {},
   "outputs": [],
   "source": [
    "write_file = open(r'C:\\Users\\alexf\\OneDrive\\Documents\\Python Tutorials\\FakeFile.txt', 'w')"
   ]
  },
  {
   "cell_type": "code",
   "execution_count": 5,
   "id": "f201a07e",
   "metadata": {},
   "outputs": [
    {
     "data": {
      "text/plain": [
       "39"
      ]
     },
     "execution_count": 5,
     "metadata": {},
     "output_type": "execute_result"
    }
   ],
   "source": [
    "write_file.write('This is our first sentence in our file.')"
   ]
  },
  {
   "cell_type": "code",
   "execution_count": 6,
   "id": "86cf9089",
   "metadata": {},
   "outputs": [],
   "source": [
    "write_file.close()"
   ]
  },
  {
   "cell_type": "code",
   "execution_count": 7,
   "id": "41fd7d83",
   "metadata": {},
   "outputs": [],
   "source": [
    "append_file = open(r'C:\\Users\\alexf\\OneDrive\\Documents\\Python Tutorials\\FakeFile.txt', 'a')\n",
    "append_file.write(' This is our Second sentence in our file.')\n",
    "append_file.close()"
   ]
  },
  {
   "cell_type": "code",
   "execution_count": 8,
   "id": "c9a799b5",
   "metadata": {},
   "outputs": [],
   "source": [
    "with open(r'C:\\Users\\alexf\\OneDrive\\Documents\\Python Tutorials\\FakeFile.txt', 'a') as append_file:\n",
    "    append_file.write('\\n This is our Third sentence in our file on a new line.')"
   ]
  },
  {
   "cell_type": "code",
   "execution_count": 10,
   "id": "65008e57",
   "metadata": {},
   "outputs": [
    {
     "name": "stdout",
     "output_type": "stream",
     "text": [
      "This is our first sentence in our file. This is our Second sentence in our file.\n",
      " This is our Third sentence in our file on a new line.\n"
     ]
    }
   ],
   "source": [
    "with open(r'C:\\Users\\alexf\\OneDrive\\Documents\\Python Tutorials\\FakeFile.txt', 'r') as read_file:\n",
    "    print(read_file.read())"
   ]
  },
  {
   "cell_type": "code",
   "execution_count": 12,
   "id": "5a943263",
   "metadata": {},
   "outputs": [],
   "source": [
    "multi_line = \"\"\"\n",
    "This is the Fourth sentence.\n",
    "This is the Fifth sentence.\n",
    "This is the Sixth sentence.\n",
    "\"\"\"\n",
    "\n",
    "with open(r'C:\\Users\\alexf\\OneDrive\\Documents\\Python Tutorials\\FakeFile.txt', 'a') as append_file:\n",
    "    append_file.write(multi_line)"
   ]
  },
  {
   "cell_type": "code",
   "execution_count": 13,
   "id": "46e3e243",
   "metadata": {},
   "outputs": [
    {
     "name": "stdout",
     "output_type": "stream",
     "text": [
      "This is our first sentence in our file. This is our Second sentence in our file.\n",
      " This is our Third sentence in our file on a new line.\n",
      "This is the Fourth sentence.\n",
      "This is the Fifth sentence.\n",
      "This is the Sixth sentence.\n",
      "\n"
     ]
    }
   ],
   "source": [
    "with open(r'C:\\Users\\alexf\\OneDrive\\Documents\\Python Tutorials\\FakeFile.txt', 'r') as read_file:\n",
    "    print(read_file.read())"
   ]
  }
 ],
 "metadata": {
  "kernelspec": {
   "display_name": "Python 3 (ipykernel)",
   "language": "python",
   "name": "python3"
  },
  "language_info": {
   "codemirror_mode": {
    "name": "ipython",
    "version": 3
   },
   "file_extension": ".py",
   "mimetype": "text/x-python",
   "name": "python",
   "nbconvert_exporter": "python",
   "pygments_lexer": "ipython3",
   "version": "3.9.12"
  }
 },
 "nbformat": 4,
 "nbformat_minor": 5
}
