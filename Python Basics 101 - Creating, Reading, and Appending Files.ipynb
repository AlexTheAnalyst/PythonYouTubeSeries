{
 "cells": [
  {
   "cell_type": "markdown",
   "id": "28b31613",
   "metadata": {},
   "source": [
    "# Creating, Reading, and Appending Files"
   ]
  },
  {
   "cell_type": "code",
   "execution_count": 13,
   "id": "198338a2",
   "metadata": {},
   "outputs": [],
   "source": [
    "new_file = open(r'C:\\Users\\alexf\\OneDrive\\Documents\\Python Tutorials\\FakeFile.txt', 'w')"
   ]
  },
  {
   "cell_type": "code",
   "execution_count": 16,
   "id": "d13ab492",
   "metadata": {},
   "outputs": [
    {
     "data": {
      "text/plain": [
       "28"
      ]
     },
     "execution_count": 16,
     "metadata": {},
     "output_type": "execute_result"
    }
   ],
   "source": [
    "new_file.write(\"You've written to this file.\")"
   ]
  },
  {
   "cell_type": "code",
   "execution_count": 18,
   "id": "9f178b3c",
   "metadata": {},
   "outputs": [],
   "source": [
    "new_file.close()"
   ]
  },
  {
   "cell_type": "code",
   "execution_count": 14,
   "id": "9c0b990b",
   "metadata": {},
   "outputs": [
    {
     "name": "stdout",
     "output_type": "stream",
     "text": [
      "\n"
     ]
    }
   ],
   "source": [
    "read_file = open(r'C:\\Users\\alexf\\OneDrive\\Documents\\Python Tutorials\\FakeFile.txt', 'r')\n",
    "print(read_file.read())"
   ]
  },
  {
   "cell_type": "code",
   "execution_count": 19,
   "id": "76567d6d",
   "metadata": {},
   "outputs": [],
   "source": [
    "read_file.close()"
   ]
  },
  {
   "cell_type": "code",
   "execution_count": 20,
   "id": "6427270f",
   "metadata": {},
   "outputs": [
    {
     "data": {
      "text/plain": [
       "25"
      ]
     },
     "execution_count": 20,
     "metadata": {},
     "output_type": "execute_result"
    }
   ],
   "source": [
    "append_file = open(r'C:\\Users\\alexf\\OneDrive\\Documents\\Python Tutorials\\FakeFile.txt', 'a')\n",
    "append_file.write(\" Let's see if this works.\")"
   ]
  },
  {
   "cell_type": "code",
   "execution_count": 21,
   "id": "f24f4f34",
   "metadata": {},
   "outputs": [],
   "source": [
    "append_file.close()"
   ]
  },
  {
   "cell_type": "code",
   "execution_count": 22,
   "id": "9cd2c924",
   "metadata": {},
   "outputs": [
    {
     "name": "stdout",
     "output_type": "stream",
     "text": [
      "You've written to this file.Let's see if this works. Let's see if this works.\n"
     ]
    }
   ],
   "source": [
    "read_file = open(r'C:\\Users\\alexf\\OneDrive\\Documents\\Python Tutorials\\FakeFile.txt', 'r')\n",
    "print(read_file.read())"
   ]
  },
  {
   "cell_type": "code",
   "execution_count": 23,
   "id": "979c199c",
   "metadata": {},
   "outputs": [],
   "source": [
    "read_file.close()"
   ]
  },
  {
   "cell_type": "code",
   "execution_count": 24,
   "id": "231ea518",
   "metadata": {},
   "outputs": [
    {
     "data": {
      "text/plain": [
       "26"
      ]
     },
     "execution_count": 24,
     "metadata": {},
     "output_type": "execute_result"
    }
   ],
   "source": [
    "append_file = open(r'C:\\Users\\alexf\\OneDrive\\Documents\\Python Tutorials\\FakeFile.txt', 'a')\n",
    "append_file.write(\"\\n Let's see if this works.\")"
   ]
  },
  {
   "cell_type": "code",
   "execution_count": 25,
   "id": "dc5543be",
   "metadata": {},
   "outputs": [],
   "source": [
    "append_file.close()"
   ]
  },
  {
   "cell_type": "code",
   "execution_count": 26,
   "id": "c74dfe39",
   "metadata": {},
   "outputs": [
    {
     "name": "stdout",
     "output_type": "stream",
     "text": [
      "You've written to this file.Let's see if this works. Let's see if this works.\n",
      " Let's see if this works.\n"
     ]
    }
   ],
   "source": [
    "read_file = open(r'C:\\Users\\alexf\\OneDrive\\Documents\\Python Tutorials\\FakeFile.txt', 'r')\n",
    "print(read_file.read())"
   ]
  },
  {
   "cell_type": "code",
   "execution_count": 27,
   "id": "561c176b",
   "metadata": {},
   "outputs": [],
   "source": [
    "read_file.close()"
   ]
  },
  {
   "cell_type": "code",
   "execution_count": 32,
   "id": "214de36f",
   "metadata": {},
   "outputs": [
    {
     "data": {
      "text/plain": [
       "61"
      ]
     },
     "execution_count": 32,
     "metadata": {},
     "output_type": "execute_result"
    }
   ],
   "source": [
    "text = \"\"\"\n",
    "This is my first line\n",
    "This is my Second\n",
    "This is my third.\n",
    "\n",
    "\n",
    "\"\"\"\n",
    "\n",
    "append_file = open(r'C:\\Users\\alexf\\OneDrive\\Documents\\Python Tutorials\\FakeFile.txt', 'a')\n",
    "append_file.write(text)"
   ]
  },
  {
   "cell_type": "code",
   "execution_count": 33,
   "id": "5027c9ec",
   "metadata": {},
   "outputs": [],
   "source": [
    "append_file.close()"
   ]
  },
  {
   "cell_type": "code",
   "execution_count": 34,
   "id": "1e5551a5",
   "metadata": {},
   "outputs": [
    {
     "name": "stdout",
     "output_type": "stream",
     "text": [
      "You've written to this file.Let's see if this works. Let's see if this works.\n",
      " Let's see if this works.\n",
      " Let's see if this works.\n",
      "This is my first line\n",
      "This is my Second\n",
      "This is my third.\n",
      "\n",
      "\n",
      "\n"
     ]
    }
   ],
   "source": [
    "read_file = open(r'C:\\Users\\alexf\\OneDrive\\Documents\\Python Tutorials\\FakeFile.txt', 'r')\n",
    "print(read_file.read())"
   ]
  },
  {
   "cell_type": "code",
   "execution_count": 31,
   "id": "b6146456",
   "metadata": {},
   "outputs": [],
   "source": [
    "read_file.close()"
   ]
  },
  {
   "cell_type": "code",
   "execution_count": 35,
   "id": "2b18eaeb",
   "metadata": {},
   "outputs": [
    {
     "name": "stdout",
     "output_type": "stream",
     "text": [
      "You've written to this file.Let's see if this works. Let's see if this works.\n",
      " Let's see if this works.\n",
      " Let's see if this works.\n",
      "This is my first line\n",
      "This is my Second\n",
      "This is my third.\n",
      "\n",
      "\n",
      "\n"
     ]
    }
   ],
   "source": [
    "with open(r'C:\\Users\\alexf\\OneDrive\\Documents\\Python Tutorials\\FakeFile.txt', 'r') as read_file:\n",
    "    print(read_file.read())"
   ]
  },
  {
   "cell_type": "code",
   "execution_count": null,
   "id": "21249f59",
   "metadata": {},
   "outputs": [],
   "source": []
  },
  {
   "cell_type": "code",
   "execution_count": null,
   "id": "3e1565b1",
   "metadata": {},
   "outputs": [],
   "source": []
  },
  {
   "cell_type": "code",
   "execution_count": null,
   "id": "a0d24daf",
   "metadata": {},
   "outputs": [],
   "source": []
  },
  {
   "cell_type": "code",
   "execution_count": null,
   "id": "5a0454d3",
   "metadata": {},
   "outputs": [],
   "source": []
  },
  {
   "cell_type": "code",
   "execution_count": null,
   "id": "d6475fe3",
   "metadata": {},
   "outputs": [],
   "source": []
  },
  {
   "cell_type": "code",
   "execution_count": null,
   "id": "282266ea",
   "metadata": {},
   "outputs": [],
   "source": []
  },
  {
   "cell_type": "code",
   "execution_count": null,
   "id": "aafe3bbc",
   "metadata": {},
   "outputs": [],
   "source": []
  }
 ],
 "metadata": {
  "kernelspec": {
   "display_name": "Python 3 (ipykernel)",
   "language": "python",
   "name": "python3"
  },
  "language_info": {
   "codemirror_mode": {
    "name": "ipython",
    "version": 3
   },
   "file_extension": ".py",
   "mimetype": "text/x-python",
   "name": "python",
   "nbconvert_exporter": "python",
   "pygments_lexer": "ipython3",
   "version": "3.9.12"
  }
 },
 "nbformat": 4,
 "nbformat_minor": 5
}
