{
 "cells": [
  {
   "attachments": {},
   "cell_type": "markdown",
   "id": "857a5eac",
   "metadata": {},
   "source": [
    "# List Comprehension"
   ]
  },
  {
   "cell_type": "code",
   "execution_count": 2,
   "id": "bd1f6620",
   "metadata": {},
   "outputs": [
    {
     "name": "stdout",
     "output_type": "stream",
     "text": [
      "['Chocolate', 'Chocolate Fudge', 'Choco Swirl']\n"
     ]
    }
   ],
   "source": [
    "ice_cream = ['Vanilla','Chocolate','Chocolate Fudge','Strawberry','Choco Swirl']\n",
    "chocolate_flavors = []\n",
    "\n",
    "for flavors in ice_cream:\n",
    "    if 'Choco' in flavors:\n",
    "        chocolate_flavors.append(flavors)\n",
    "        \n",
    "print(chocolate_flavors)"
   ]
  },
  {
   "cell_type": "code",
   "execution_count": 3,
   "id": "b1d8652b",
   "metadata": {},
   "outputs": [
    {
     "name": "stdout",
     "output_type": "stream",
     "text": [
      "['Chocolate', 'Chocolate Fudge', 'Choco Swirl']\n"
     ]
    }
   ],
   "source": [
    "ice_cream = ['Vanilla','Chocolate','Chocolate Fudge','Strawberry','Choco Swirl']\n",
    "\n",
    "chocolate_flavors = [flavors for flavors in ice_cream if 'Choco' in flavors]\n",
    "\n",
    "print(chocolate_flavors)"
   ]
  },
  {
   "cell_type": "code",
   "execution_count": 4,
   "id": "52751334",
   "metadata": {},
   "outputs": [
    {
     "name": "stdout",
     "output_type": "stream",
     "text": [
      "[0, 1, 2, 3, 4, 5, 6, 7, 8, 9]\n"
     ]
    }
   ],
   "source": [
    "newlist = [x for x in range(10)]\n",
    "\n",
    "print(newlist)"
   ]
  },
  {
   "cell_type": "code",
   "execution_count": 6,
   "id": "65e5f737",
   "metadata": {},
   "outputs": [
    {
     "name": "stdout",
     "output_type": "stream",
     "text": [
      "[0, 2, 4, 6, 8, 10]\n"
     ]
    }
   ],
   "source": [
    "newlist = [x for x in range(11) if x % 2 ==0]\n",
    "\n",
    "print(newlist)"
   ]
  },
  {
   "cell_type": "code",
   "execution_count": null,
   "id": "316736bc",
   "metadata": {},
   "outputs": [],
   "source": []
  },
  {
   "cell_type": "code",
   "execution_count": null,
   "id": "07dbee5e",
   "metadata": {},
   "outputs": [],
   "source": []
  },
  {
   "cell_type": "code",
   "execution_count": null,
   "id": "2b9c9f35",
   "metadata": {},
   "outputs": [],
   "source": []
  },
  {
   "attachments": {
    "image.png": {
     "image/png": "[encoded data removed]"
    }
   },
   "cell_type": "markdown",
   "id": "2f722264",
   "metadata": {},
   "source": [
    "![image.png](attachment:image.png)"
   ]
  }
 ],
 "metadata": {
  "kernelspec": {
   "display_name": "Python 3 (ipykernel)",
   "language": "python",
   "name": "python3"
  },
  "language_info": {
   "codemirror_mode": {
    "name": "ipython",
    "version": 3
   },
   "file_extension": ".py",
   "mimetype": "text/x-python",
   "name": "python",
   "nbconvert_exporter": "python",
   "pygments_lexer": "ipython3",
   "version": "3.9.12"
  }
 },
 "nbformat": 4,
 "nbformat_minor": 5
}
