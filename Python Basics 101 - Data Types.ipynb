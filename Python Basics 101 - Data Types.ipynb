{
 "cells": [
  {
   "cell_type": "markdown",
   "id": "3403857f",
   "metadata": {},
   "source": [
    "# Data Types"
   ]
  },
  {
   "cell_type": "code",
   "execution_count": 4,
   "id": "d6fde853",
   "metadata": {},
   "outputs": [
    {
     "data": {
      "text/plain": [
       "int"
      ]
     },
     "execution_count": 4,
     "metadata": {},
     "output_type": "execute_result"
    }
   ],
   "source": [
    "type(-12 + 100)"
   ]
  },
  {
   "cell_type": "code",
   "execution_count": 5,
   "id": "1c6ee3b5",
   "metadata": {},
   "outputs": [
    {
     "data": {
      "text/plain": [
       "float"
      ]
     },
     "execution_count": 5,
     "metadata": {},
     "output_type": "execute_result"
    }
   ],
   "source": [
    "type(12 + 10.25)"
   ]
  },
  {
   "cell_type": "code",
   "execution_count": 8,
   "id": "84a2358e",
   "metadata": {},
   "outputs": [
    {
     "data": {
      "text/plain": [
       "complex"
      ]
     },
     "execution_count": 8,
     "metadata": {},
     "output_type": "execute_result"
    }
   ],
   "source": [
    "type(12 + 3j)"
   ]
  },
  {
   "cell_type": "code",
   "execution_count": 13,
   "id": "75dd7320",
   "metadata": {},
   "outputs": [
    {
     "data": {
      "text/plain": [
       "bool"
      ]
     },
     "execution_count": 13,
     "metadata": {},
     "output_type": "execute_result"
    }
   ],
   "source": [
    "#Boolean\n",
    "\n",
    "type(1 > 5)"
   ]
  },
  {
   "cell_type": "code",
   "execution_count": 15,
   "id": "a9cb0ff9",
   "metadata": {},
   "outputs": [
    {
     "data": {
      "text/plain": [
       "True"
      ]
     },
     "execution_count": 15,
     "metadata": {},
     "output_type": "execute_result"
    }
   ],
   "source": [
    "1 == 1"
   ]
  },
  {
   "cell_type": "code",
   "execution_count": 16,
   "id": "00fe9772",
   "metadata": {},
   "outputs": [
    {
     "data": {
      "text/plain": [
       "'Single Quote'"
      ]
     },
     "execution_count": 16,
     "metadata": {},
     "output_type": "execute_result"
    }
   ],
   "source": [
    "# Strings\n",
    "\n",
    "'Single Quote'"
   ]
  },
  {
   "cell_type": "code",
   "execution_count": 17,
   "id": "63d73681",
   "metadata": {},
   "outputs": [
    {
     "data": {
      "text/plain": [
       "'Double Quote'"
      ]
     },
     "execution_count": 17,
     "metadata": {},
     "output_type": "execute_result"
    }
   ],
   "source": [
    "\"Double Quote\""
   ]
  },
  {
   "cell_type": "code",
   "execution_count": 23,
   "id": "d90a602f",
   "metadata": {},
   "outputs": [],
   "source": [
    "multiline = \"\"\"\n",
    "The ice cream vanquished\n",
    "my longing for sweets,\n",
    "upon this diet I look away,\n",
    "it no longer exists on this day.\n",
    "\n",
    "\"\"\""
   ]
  },
  {
   "cell_type": "code",
   "execution_count": 24,
   "id": "048c3402",
   "metadata": {},
   "outputs": [
    {
     "name": "stdout",
     "output_type": "stream",
     "text": [
      "\n",
      "The ice cream vanquished\n",
      "my longing for sweets,\n",
      "upon this diet I look away,\n",
      "it no longer exists on this day.\n",
      "\n",
      "\n"
     ]
    }
   ],
   "source": [
    "print(multiline)"
   ]
  },
  {
   "cell_type": "code",
   "execution_count": null,
   "id": "b285e18d",
   "metadata": {},
   "outputs": [],
   "source": [
    "\"\"\"\n",
    "I've always wanted to eat a gallon of \"ice cream.\"\n",
    "\"\"\""
   ]
  },
  {
   "cell_type": "code",
   "execution_count": 25,
   "id": "f753eb08",
   "metadata": {},
   "outputs": [
    {
     "data": {
      "text/plain": [
       "str"
      ]
     },
     "execution_count": 25,
     "metadata": {},
     "output_type": "execute_result"
    }
   ],
   "source": [
    "type(multiline)"
   ]
  },
  {
   "cell_type": "code",
   "execution_count": 26,
   "id": "824fea24",
   "metadata": {},
   "outputs": [],
   "source": [
    "a = 'Hello World!'"
   ]
  },
  {
   "cell_type": "code",
   "execution_count": 31,
   "id": "7d267a75",
   "metadata": {},
   "outputs": [
    {
     "name": "stdout",
     "output_type": "stream",
     "text": [
      "llo\n"
     ]
    }
   ],
   "source": [
    "print(a[2:5])"
   ]
  },
  {
   "cell_type": "code",
   "execution_count": 32,
   "id": "3893bd14",
   "metadata": {},
   "outputs": [
    {
     "data": {
      "text/plain": [
       "'Hello World!Hello World!Hello World!'"
      ]
     },
     "execution_count": 32,
     "metadata": {},
     "output_type": "execute_result"
    }
   ],
   "source": [
    "a*3"
   ]
  },
  {
   "cell_type": "code",
   "execution_count": 33,
   "id": "b9aa6c3b",
   "metadata": {},
   "outputs": [
    {
     "data": {
      "text/plain": [
       "'Hello World!Hello World!'"
      ]
     },
     "execution_count": 33,
     "metadata": {},
     "output_type": "execute_result"
    }
   ],
   "source": [
    "a + a "
   ]
  },
  {
   "cell_type": "code",
   "execution_count": 34,
   "id": "4bdb2e80",
   "metadata": {},
   "outputs": [
    {
     "data": {
      "text/plain": [
       "[1, 2, 3]"
      ]
     },
     "execution_count": 34,
     "metadata": {},
     "output_type": "execute_result"
    }
   ],
   "source": [
    "# list\n",
    "\n",
    "[1,2,3]"
   ]
  },
  {
   "cell_type": "code",
   "execution_count": 35,
   "id": "3e9e44bd",
   "metadata": {},
   "outputs": [
    {
     "data": {
      "text/plain": [
       "['Cookie Dough', 'Strawberry', 'Chocolate']"
      ]
     },
     "execution_count": 35,
     "metadata": {},
     "output_type": "execute_result"
    }
   ],
   "source": [
    "['Cookie Dough','Strawberry','Chocolate']"
   ]
  },
  {
   "cell_type": "code",
   "execution_count": 36,
   "id": "fca2cf9c",
   "metadata": {},
   "outputs": [
    {
     "data": {
      "text/plain": [
       "['Vanilla', 3, ['Scoops', 'Spoon'], True]"
      ]
     },
     "execution_count": 36,
     "metadata": {},
     "output_type": "execute_result"
    }
   ],
   "source": [
    "['Vanilla', 3, ['Scoops','Spoon'],True]"
   ]
  },
  {
   "cell_type": "code",
   "execution_count": 37,
   "id": "d96f89ef",
   "metadata": {},
   "outputs": [
    {
     "data": {
      "text/plain": [
       "['Cookie Dough', 'Strawberry', 'Chocolate', 'Salted Caramel']"
      ]
     },
     "execution_count": 37,
     "metadata": {},
     "output_type": "execute_result"
    }
   ],
   "source": [
    "ice_cream = ['Cookie Dough','Strawberry','Chocolate']\n",
    "\n",
    "ice_cream.append('Salted Caramel')\n",
    "\n",
    "ice_cream"
   ]
  },
  {
   "cell_type": "code",
   "execution_count": 38,
   "id": "7fdd960c",
   "metadata": {},
   "outputs": [
    {
     "data": {
      "text/plain": [
       "['Butter Pecan', 'Strawberry', 'Chocolate', 'Salted Caramel']"
      ]
     },
     "execution_count": 38,
     "metadata": {},
     "output_type": "execute_result"
    }
   ],
   "source": [
    "ice_cream[0] = 'Butter Pecan'\n",
    "\n",
    "ice_cream"
   ]
  },
  {
   "cell_type": "code",
   "execution_count": 39,
   "id": "4d9a1834",
   "metadata": {},
   "outputs": [],
   "source": [
    "nest_list = ['Vanilla', 3, ['Scoops','Spoon'],True]"
   ]
  },
  {
   "cell_type": "code",
   "execution_count": 42,
   "id": "ceccf35b",
   "metadata": {},
   "outputs": [
    {
     "data": {
      "text/plain": [
       "'Spoon'"
      ]
     },
     "execution_count": 42,
     "metadata": {},
     "output_type": "execute_result"
    }
   ],
   "source": [
    "nest_list[2][1]"
   ]
  },
  {
   "cell_type": "code",
   "execution_count": 43,
   "id": "c5e0c40e",
   "metadata": {},
   "outputs": [],
   "source": [
    "#tuple\n",
    "\n",
    "tuple_scoops = (1,2,3,2,1)"
   ]
  },
  {
   "cell_type": "code",
   "execution_count": 44,
   "id": "62e9b0b7",
   "metadata": {},
   "outputs": [
    {
     "data": {
      "text/plain": [
       "tuple"
      ]
     },
     "execution_count": 44,
     "metadata": {},
     "output_type": "execute_result"
    }
   ],
   "source": [
    "type(tuple_scoops)"
   ]
  },
  {
   "cell_type": "code",
   "execution_count": 45,
   "id": "69c86af2",
   "metadata": {},
   "outputs": [
    {
     "data": {
      "text/plain": [
       "1"
      ]
     },
     "execution_count": 45,
     "metadata": {},
     "output_type": "execute_result"
    }
   ],
   "source": [
    "tuple_scoops[0]"
   ]
  },
  {
   "cell_type": "code",
   "execution_count": 46,
   "id": "0fb925e7",
   "metadata": {},
   "outputs": [
    {
     "ename": "AttributeError",
     "evalue": "'tuple' object has no attribute 'append'",
     "output_type": "error",
     "traceback": [
      "\u001b[1;31m---------------------------------------------------------------------------\u001b[0m",
      "\u001b[1;31mAttributeError\u001b[0m                            Traceback (most recent call last)",
      "Input \u001b[1;32mIn [46]\u001b[0m, in \u001b[0;36m<cell line: 1>\u001b[1;34m()\u001b[0m\n\u001b[1;32m----> 1\u001b[0m \u001b[43mtuple_scoops\u001b[49m\u001b[38;5;241;43m.\u001b[39;49m\u001b[43mappend\u001b[49m(\u001b[38;5;241m3\u001b[39m)\n",
      "\u001b[1;31mAttributeError\u001b[0m: 'tuple' object has no attribute 'append'"
     ]
    }
   ],
   "source": [
    "tuple_scoops.append(3)"
   ]
  },
  {
   "cell_type": "code",
   "execution_count": 47,
   "id": "e92ce72c",
   "metadata": {},
   "outputs": [],
   "source": [
    "# sets\n",
    "\n",
    "\n",
    "daily_pints = {1,2,3}"
   ]
  },
  {
   "cell_type": "code",
   "execution_count": 49,
   "id": "950beaad",
   "metadata": {},
   "outputs": [
    {
     "data": {
      "text/plain": [
       "set"
      ]
     },
     "execution_count": 49,
     "metadata": {},
     "output_type": "execute_result"
    }
   ],
   "source": [
    "type(daily_pints)"
   ]
  },
  {
   "cell_type": "code",
   "execution_count": 50,
   "id": "73f55a86",
   "metadata": {},
   "outputs": [
    {
     "name": "stdout",
     "output_type": "stream",
     "text": [
      "{1, 2, 3}\n"
     ]
    }
   ],
   "source": [
    "print(daily_pints)"
   ]
  },
  {
   "cell_type": "code",
   "execution_count": 51,
   "id": "9c5810f4",
   "metadata": {},
   "outputs": [
    {
     "name": "stdout",
     "output_type": "stream",
     "text": [
      "{1, 2, 3, 4, 5, 6, 31}\n"
     ]
    }
   ],
   "source": [
    "daily_pints_log = {1,2,31,2,3,4,1,2,5,6,3,2}\n",
    "\n",
    "print(daily_pints_log)"
   ]
  },
  {
   "cell_type": "code",
   "execution_count": 53,
   "id": "67a2f904",
   "metadata": {},
   "outputs": [],
   "source": [
    "wifes_daily_pints_log = {1,3,5,7,3,24,5,7,3,2,0}"
   ]
  },
  {
   "cell_type": "code",
   "execution_count": 54,
   "id": "b4956b32",
   "metadata": {},
   "outputs": [
    {
     "name": "stdout",
     "output_type": "stream",
     "text": [
      "{0, 1, 2, 3, 4, 5, 6, 7, 24, 31}\n"
     ]
    }
   ],
   "source": [
    "print(daily_pints_log | wifes_daily_pints_log)"
   ]
  },
  {
   "cell_type": "code",
   "execution_count": 55,
   "id": "b4431472",
   "metadata": {},
   "outputs": [
    {
     "name": "stdout",
     "output_type": "stream",
     "text": [
      "{1, 2, 3, 5}\n"
     ]
    }
   ],
   "source": [
    "print(daily_pints_log & wifes_daily_pints_log)"
   ]
  },
  {
   "cell_type": "code",
   "execution_count": 57,
   "id": "a141db95",
   "metadata": {},
   "outputs": [
    {
     "name": "stdout",
     "output_type": "stream",
     "text": [
      "{0, 24, 7}\n"
     ]
    }
   ],
   "source": [
    "print(wifes_daily_pints_log - daily_pints_log )"
   ]
  },
  {
   "cell_type": "code",
   "execution_count": 58,
   "id": "bb3d7aea",
   "metadata": {},
   "outputs": [
    {
     "name": "stdout",
     "output_type": "stream",
     "text": [
      "{0, 4, 6, 7, 24, 31}\n"
     ]
    }
   ],
   "source": [
    "print(wifes_daily_pints_log ^ daily_pints_log )"
   ]
  },
  {
   "cell_type": "code",
   "execution_count": 59,
   "id": "822e9010",
   "metadata": {},
   "outputs": [],
   "source": [
    "# dictionaries\n",
    "# Key/Value Pair\n",
    "\n",
    "dict_cream = {'name': 'Alex Freberg', 'weekly intake': 5, 'favorite ice creams': ['MCC','Chocolate']}"
   ]
  },
  {
   "cell_type": "code",
   "execution_count": 60,
   "id": "925daa00",
   "metadata": {},
   "outputs": [
    {
     "data": {
      "text/plain": [
       "dict"
      ]
     },
     "execution_count": 60,
     "metadata": {},
     "output_type": "execute_result"
    }
   ],
   "source": [
    "type(dict_cream)"
   ]
  },
  {
   "cell_type": "code",
   "execution_count": 61,
   "id": "6bc1cedd",
   "metadata": {},
   "outputs": [
    {
     "name": "stdout",
     "output_type": "stream",
     "text": [
      "{'name': 'Alex Freberg', 'weekly intake': 5, 'favorite ice creams': ['MCC', 'Chocolate']}\n"
     ]
    }
   ],
   "source": [
    "print(dict_cream)"
   ]
  },
  {
   "cell_type": "code",
   "execution_count": 62,
   "id": "cf9782cf",
   "metadata": {},
   "outputs": [
    {
     "data": {
      "text/plain": [
       "dict_values(['Alex Freberg', 5, ['MCC', 'Chocolate']])"
      ]
     },
     "execution_count": 62,
     "metadata": {},
     "output_type": "execute_result"
    }
   ],
   "source": [
    "dict_cream.values()"
   ]
  },
  {
   "cell_type": "code",
   "execution_count": 64,
   "id": "7d77ebf6",
   "metadata": {},
   "outputs": [
    {
     "data": {
      "text/plain": [
       "dict_keys(['name', 'weekly intake', 'favorite ice creams'])"
      ]
     },
     "execution_count": 64,
     "metadata": {},
     "output_type": "execute_result"
    }
   ],
   "source": [
    "dict_cream.keys()"
   ]
  },
  {
   "cell_type": "code",
   "execution_count": 65,
   "id": "2d1708b5",
   "metadata": {},
   "outputs": [
    {
     "data": {
      "text/plain": [
       "dict_items([('name', 'Alex Freberg'), ('weekly intake', 5), ('favorite ice creams', ['MCC', 'Chocolate'])])"
      ]
     },
     "execution_count": 65,
     "metadata": {},
     "output_type": "execute_result"
    }
   ],
   "source": [
    "dict_cream.items()"
   ]
  },
  {
   "cell_type": "code",
   "execution_count": 67,
   "id": "4287746f",
   "metadata": {},
   "outputs": [
    {
     "data": {
      "text/plain": [
       "'Alex Freberg'"
      ]
     },
     "execution_count": 67,
     "metadata": {},
     "output_type": "execute_result"
    }
   ],
   "source": [
    "dict_cream['name']"
   ]
  },
  {
   "cell_type": "code",
   "execution_count": 68,
   "id": "79fab68b",
   "metadata": {},
   "outputs": [
    {
     "name": "stdout",
     "output_type": "stream",
     "text": [
      "{'name': 'Christine Freberg', 'weekly intake': 5, 'favorite ice creams': ['MCC', 'Chocolate']}\n"
     ]
    }
   ],
   "source": [
    "dict_cream['name'] = 'Christine Freberg'\n",
    "\n",
    "print(dict_cream)"
   ]
  },
  {
   "cell_type": "code",
   "execution_count": 70,
   "id": "6ec7c87f",
   "metadata": {},
   "outputs": [
    {
     "name": "stdout",
     "output_type": "stream",
     "text": [
      "{'name': 'Christine Freberg', 'weekly intake': 10, 'favorite ice creams': ['MCC', 'Chocolate'], 'weight': 300}\n"
     ]
    }
   ],
   "source": [
    "dict_cream.update({'name': 'Christine Freberg', 'weekly intake': 10, 'weight': 300})\n",
    "\n",
    "print(dict_cream)"
   ]
  },
  {
   "cell_type": "code",
   "execution_count": 71,
   "id": "70cc2154",
   "metadata": {},
   "outputs": [
    {
     "name": "stdout",
     "output_type": "stream",
     "text": [
      "{'name': 'Christine Freberg', 'weekly intake': 10, 'favorite ice creams': ['MCC', 'Chocolate']}\n"
     ]
    }
   ],
   "source": [
    "del dict_cream['weight']\n",
    "\n",
    "print(dict_cream)"
   ]
  },
  {
   "cell_type": "code",
   "execution_count": null,
   "id": "9a99a17f",
   "metadata": {},
   "outputs": [],
   "source": []
  },
  {
   "cell_type": "code",
   "execution_count": null,
   "id": "f82ec801",
   "metadata": {},
   "outputs": [],
   "source": []
  },
  {
   "cell_type": "code",
   "execution_count": null,
   "id": "cb6a2afb",
   "metadata": {},
   "outputs": [],
   "source": []
  },
  {
   "cell_type": "code",
   "execution_count": null,
   "id": "c04a3cbc",
   "metadata": {},
   "outputs": [],
   "source": []
  },
  {
   "cell_type": "code",
   "execution_count": null,
   "id": "3e90e3ff",
   "metadata": {},
   "outputs": [],
   "source": []
  },
  {
   "cell_type": "code",
   "execution_count": null,
   "id": "7a4ea17f",
   "metadata": {},
   "outputs": [],
   "source": []
  },
  {
   "cell_type": "code",
   "execution_count": null,
   "id": "cb94ee78",
   "metadata": {},
   "outputs": [],
   "source": []
  }
 ],
 "metadata": {
  "kernelspec": {
   "display_name": "Python 3 (ipykernel)",
   "language": "python",
   "name": "python3"
  },
  "language_info": {
   "codemirror_mode": {
    "name": "ipython",
    "version": 3
   },
   "file_extension": ".py",
   "mimetype": "text/x-python",
   "name": "python",
   "nbconvert_exporter": "python",
   "pygments_lexer": "ipython3",
   "version": "3.9.12"
  }
 },
 "nbformat": 4,
 "nbformat_minor": 5
}
