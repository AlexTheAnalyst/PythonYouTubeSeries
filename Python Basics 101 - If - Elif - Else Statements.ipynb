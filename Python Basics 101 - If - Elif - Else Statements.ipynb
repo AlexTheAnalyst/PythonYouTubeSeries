{
 "cells": [
  {
   "attachments": {},
   "cell_type": "markdown",
   "id": "770bcc6d",
   "metadata": {},
   "source": [
    "# If - Elif - Else Statements"
   ]
  },
  {
   "cell_type": "code",
   "execution_count": 1,
   "id": "78e96668",
   "metadata": {},
   "outputs": [
    {
     "name": "stdout",
     "output_type": "stream",
     "text": [
      "It worked!\n"
     ]
    }
   ],
   "source": [
    "if 25 > 10:\n",
    "    print('It worked!')"
   ]
  },
  {
   "cell_type": "code",
   "execution_count": 4,
   "id": "9bb90f9b",
   "metadata": {},
   "outputs": [
    {
     "name": "stdout",
     "output_type": "stream",
     "text": [
      "It worked!\n"
     ]
    }
   ],
   "source": [
    "if 25 > 10:\n",
    "    print('It worked!')\n",
    "else:\n",
    "    print('It did not work...')"
   ]
  },
  {
   "cell_type": "code",
   "execution_count": 7,
   "id": "064e4770",
   "metadata": {},
   "outputs": [
    {
     "name": "stdout",
     "output_type": "stream",
     "text": [
      "It worked!\n"
     ]
    }
   ],
   "source": [
    "if (25 < 10) or (1 < 3):\n",
    "    print('It worked!')\n",
    "elif 25 < 20:\n",
    "    print('elif worked!')\n",
    "elif 25 < 21:\n",
    "    print('elif 2 worked!')\n",
    "elif 25 < 40:\n",
    "    print('elif 3 worked!')\n",
    "elif 25 < 50:\n",
    "    print('elif 4 worked!')\n",
    "else:\n",
    "    print('It did not work...')"
   ]
  },
  {
   "cell_type": "code",
   "execution_count": 8,
   "id": "421a4e09",
   "metadata": {},
   "outputs": [
    {
     "name": "stdout",
     "output_type": "stream",
     "text": [
      "It did not work...\n"
     ]
    }
   ],
   "source": [
    "print('It worked!') if 10>30 else print('It did not work...')"
   ]
  },
  {
   "cell_type": "code",
   "execution_count": 14,
   "id": "5a7ba25e",
   "metadata": {},
   "outputs": [
    {
     "name": "stdout",
     "output_type": "stream",
     "text": [
      "It worked!\n",
      "This nested if statement worked!\n"
     ]
    }
   ],
   "source": [
    "if (25 < 10) or (1 < 3):\n",
    "    print('It worked!')\n",
    "    if 10 > 5:\n",
    "        print('This nested if statement worked!')\n",
    "elif 25 < 20:\n",
    "    print('elif worked!')\n",
    "elif 25 < 21:\n",
    "    print('elif 2 worked!')\n",
    "elif 25 < 40:\n",
    "    print('elif 3 worked!')\n",
    "elif 25 < 50:\n",
    "    print('elif 4 worked!')\n",
    "else:\n",
    "    print('It did not work...')"
   ]
  },
  {
   "cell_type": "code",
   "execution_count": null,
   "id": "aaed42c5",
   "metadata": {},
   "outputs": [],
   "source": []
  },
  {
   "cell_type": "code",
   "execution_count": null,
   "id": "b26d5171",
   "metadata": {},
   "outputs": [],
   "source": []
  },
  {
   "cell_type": "code",
   "execution_count": null,
   "id": "1fa8dbc0",
   "metadata": {},
   "outputs": [],
   "source": []
  },
  {
   "cell_type": "code",
   "execution_count": null,
   "id": "e9106ac7",
   "metadata": {},
   "outputs": [],
   "source": []
  },
  {
   "cell_type": "code",
   "execution_count": null,
   "id": "233f0e99",
   "metadata": {},
   "outputs": [],
   "source": []
  },
  {
   "cell_type": "code",
   "execution_count": null,
   "id": "f0b889e8",
   "metadata": {},
   "outputs": [],
   "source": []
  },
  {
   "cell_type": "code",
   "execution_count": null,
   "id": "e490f008",
   "metadata": {},
   "outputs": [],
   "source": []
  },
  {
   "cell_type": "code",
   "execution_count": null,
   "id": "3146f0ae",
   "metadata": {},
   "outputs": [],
   "source": []
  },
  {
   "cell_type": "code",
   "execution_count": null,
   "id": "cd77a547",
   "metadata": {},
   "outputs": [],
   "source": []
  },
  {
   "cell_type": "code",
   "execution_count": null,
   "id": "487556c8",
   "metadata": {},
   "outputs": [],
   "source": []
  },
  {
   "cell_type": "code",
   "execution_count": null,
   "id": "f2a77e2e",
   "metadata": {},
   "outputs": [],
   "source": []
  },
  {
   "cell_type": "code",
   "execution_count": null,
   "id": "996d05df",
   "metadata": {},
   "outputs": [],
   "source": []
  },
  {
   "cell_type": "code",
   "execution_count": null,
   "id": "21458f08",
   "metadata": {},
   "outputs": [],
   "source": []
  },
  {
   "cell_type": "code",
   "execution_count": null,
   "id": "45967f97",
   "metadata": {},
   "outputs": [],
   "source": []
  },
  {
   "cell_type": "code",
   "execution_count": null,
   "id": "7895a426",
   "metadata": {},
   "outputs": [],
   "source": []
  },
  {
   "cell_type": "code",
   "execution_count": null,
   "id": "29f04730",
   "metadata": {},
   "outputs": [],
   "source": []
  },
  {
   "cell_type": "code",
   "execution_count": null,
   "id": "c41f0531",
   "metadata": {},
   "outputs": [],
   "source": []
  }
 ],
 "metadata": {
  "kernelspec": {
   "display_name": "Python 3 (ipykernel)",
   "language": "python",
   "name": "python3"
  },
  "language_info": {
   "codemirror_mode": {
    "name": "ipython",
    "version": 3
   },
   "file_extension": ".py",
   "mimetype": "text/x-python",
   "name": "python",
   "nbconvert_exporter": "python",
   "pygments_lexer": "ipython3",
   "version": "3.9.12"
  }
 },
 "nbformat": 4,
 "nbformat_minor": 5
}
